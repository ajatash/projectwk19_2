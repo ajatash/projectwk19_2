{
 "cells": [
  {
   "cell_type": "code",
   "execution_count": null,
   "metadata": {},
   "outputs": [],
   "source": [
    "# Dependencies\n",
    "import pandas as pd\n",
    "import geopandas as gpd\n",
    "import requests\n",
    "from census import Census\n",
    "from us import states\n",
    "import fiona\n",
    "from sqlalchemy import create_engine\n",
    "from geoalchemy2 import Geometry, WKTElement\n",
    "\n",
    "# Census API Key\n",
    "from config import api_key\n",
    "c = Census(api_key, year=2017)"
   ]
  },
  {
   "cell_type": "code",
   "execution_count": null,
   "metadata": {},
   "outputs": [],
   "source": [
    "# label documentation: https://gist.github.com/afhaque/60558290d6efd892351c4b64e5c01e9b\n",
    "\n",
    "# population: B01003_001E\n",
    "# median age: B01002_001E\n",
    "# male population over 65: B01001_020E - B01001_025E\n",
    "# female population over 65: B01001_044E - B01001_049E\n",
    "\n",
    "\n",
    "m_census_data = c.acs5.get(('NAME','B01003_001E', 'B01001_001E','B01002_001E', 'B01001_002E', 'B01001_020E', 'B01001_021E', 'B01001_022E', 'B01001_023E', 'B01001_024E', 'B01001_025E',\n",
    "                           'B01001_044E', 'B01001_045E', 'B01001_046E', 'B01001_047E', 'B01001_048E', 'B01001_049E'), geo={'for': 'county:*',\n",
    "                       'in': 'state:27'.format(states.MN.fips)}) #  county:053  &for=county:*&in=state:01"
   ]
  },
  {
   "cell_type": "code",
   "execution_count": null,
   "metadata": {},
   "outputs": [],
   "source": [
    "m_census_data\n",
    "# Convert to DataFrame\n",
    "m_census_pd = pd.DataFrame(m_census_data)\n",
    "m_census_pd.head()"
   ]
  },
  {
   "cell_type": "code",
   "execution_count": null,
   "metadata": {},
   "outputs": [],
   "source": [
    "# add up individual age groups to get population of all people over age 65\n",
    "m_census_pd[\"TotalAgeOvr65\"] = m_census_pd[\"B01001_020E\"] + m_census_pd[\"B01001_021E\"] + m_census_pd[\"B01001_022E\"]+ m_census_pd[\"B01001_023E\"] + m_census_pd[\"B01001_024E\"] + m_census_pd[\"B01001_025E\"] + m_census_pd[\"B01001_044E\"] + m_census_pd[\"B01001_045E\"] + m_census_pd[\"B01001_046E\"] + m_census_pd[\"B01001_047E\"] + m_census_pd[\"B01001_048E\"] + m_census_pd[\"B01001_049E\"]\n",
    "\n",
    "m_census_pd['fips_concate'] = m_census_pd['state'].astype(str) + m_census_pd['county'].astype(str)\n",
    "# trim down to jsut the columns we need\n",
    "m_census_pd = m_census_pd[['NAME', 'B01003_001E', 'B01002_001E', 'TotalAgeOvr65', 'state', 'county', 'fips_concate']]\n",
    "m_census_pd.head()"
   ]
  },
  {
   "cell_type": "code",
   "execution_count": null,
   "metadata": {},
   "outputs": [],
   "source": [
    "# Column Reordering\n",
    "m_census_pd = m_census_pd.rename(columns={\"B01003_001E\": \"Population\",\n",
    "                                      \"B01002_001E\": \"Median Age\",\n",
    "#                                       \"B17001_002E\": \"Poverty count\",\n",
    "#                                       \"B19013_001E\": \"Median Household Income\",\n",
    "#                                       \"B01001_001E\" : \"Age Over 65\",\n",
    "                                      \"NAME\": \"Name\", \"tract\": \"Census Tract\"})\n",
    "\n",
    "# # Add in Poverty Rate (Poverty Count / Population)\n",
    "# m_census_pd[\"Poverty Rate\"] = 100 * \\\n",
    "#     m_census_pd[\"Poverty count\"].astype(\n",
    "#         int) / m_census_pd[\"Population\"].astype(int)\n",
    "\n",
    "# Add in Pct age over 65\n",
    "m_census_pd[\"Percent Age Ovr 65\"] = round(m_census_pd[\"TotalAgeOvr65\"].astype(\n",
    "        float) / m_census_pd[\"Population\"].astype(float), 2)\n",
    "\n",
    "# convert county FIPS to int\n",
    "m_census_pd[\"county\"] = m_census_pd[\"county\"].astype(int)\n",
    "\n",
    "m_census_pd.head()"
   ]
  },
  {
   "cell_type": "code",
   "execution_count": null,
   "metadata": {},
   "outputs": [],
   "source": [
    "m_census_pd.to_csv(\"../data/CountiesData_noGeometry.csv\")"
   ]
  },
  {
   "cell_type": "code",
   "execution_count": null,
   "metadata": {},
   "outputs": [],
   "source": [
    "## Read in county boundaries shapefile\n",
    "## source: https://gisdata.mn.gov/dataset/bdry-counties-in-minnesota\n",
    "shp = \"mn_county_boundary.shp\" \n",
    "# create a geo-dataframe\n",
    "counties = gpd.read_file(shp)\n",
    "counties.head()\n",
    "print(len(counties))"
   ]
  },
  {
   "cell_type": "code",
   "execution_count": null,
   "metadata": {},
   "outputs": [],
   "source": [
    "# merge the census table to the geo-dataframe \n",
    "counties_ACS = counties.merge(m_census_pd, left_on='CTY_FIPS', right_on='county' )\n",
    "\n",
    "# Set the projection of the counties to be web-readable\n",
    "counties_ACS = counties_ACS.to_crs(\"EPSG:4326\")\n",
    "counties_ACS.head(87)"
   ]
  },
  {
   "cell_type": "code",
   "execution_count": null,
   "metadata": {},
   "outputs": [],
   "source": [
    "\n",
    "gdf = gpd.read_file(\"../data/COVID19_Cases_US.geojson\")\n",
    "# gjson = \"../data/COVID19_Cases_US.geojson\" \n",
    "# covid = gpd.read_file(gjson)\n",
    "mn_covid = gdf[(gdf['Province_State'] == \"Minnesota\")]\n",
    "\n",
    "mn_covid = mn_covid[['Province_State', 'Last_Update', 'Lat', 'Long_', 'Confirmed', 'Recovered', 'Deaths', 'Active', 'Combined_Key', 'FIPS', 'Admin2']]\n",
    "# mn_covid_df = pd.DataFrame(mn_covid.drop(columns='geometry'))\n",
    "print(len(mn_covid))\n",
    "mn_covid.head()"
   ]
  },
  {
   "cell_type": "code",
   "execution_count": null,
   "metadata": {},
   "outputs": [],
   "source": [
    "# merge the census table to the geo-dataframe \n",
    "counties_covid = counties_ACS.merge(mn_covid, left_on='fips_concate', right_on='FIPS', how=\"left\" )\n",
    "\n",
    "# Set the projection of the counties to be web-readable\n",
    "# counties_covid = counties_covid.to_crs(\"EPSG:4326\")\n",
    "counties_covid.head()"
   ]
  },
  {
   "cell_type": "code",
   "execution_count": null,
   "metadata": {},
   "outputs": [],
   "source": [
    "# confrim projection is 4326\n",
    "print(counties_covid.crs)\n",
    "print(len(counties_covid))"
   ]
  },
  {
   "cell_type": "code",
   "execution_count": null,
   "metadata": {},
   "outputs": [],
   "source": [
    "# export geodataframe as a geojson file for web-mapping\n",
    "# counties_covid.to_file(\"../data/MN_counties.geojson\", driver='GeoJSON')\n",
    "counties_covid.to_file(\"../data/MN_counties.geojson\", driver='GeoJSON')\n",
    "# counties.to_file(\"MN_counties.shp\")"
   ]
  },
  {
   "cell_type": "code",
   "execution_count": null,
   "metadata": {},
   "outputs": [],
   "source": [
    "# # drop the geometry column and export data into csv for database and charting\n",
    "# counties_ACS.drop(['geometry'], axis=1)\n",
    "# counties_ACS.to_csv(\"../data/CountiesData.csv\")"
   ]
  },
  {
   "cell_type": "code",
   "execution_count": null,
   "metadata": {},
   "outputs": [],
   "source": [
    "##Testing pushing geodata to postgres\n",
    "# connection_string = \"postgres:postgres@localhost:5432/covid_db\"\n",
    "# engine = create_engine(f'postgresql://{connection_string}')"
   ]
  },
  {
   "cell_type": "code",
   "execution_count": null,
   "metadata": {},
   "outputs": [],
   "source": [
    "##Testing pushing geodata to postgres\n",
    "# engine.table_names()"
   ]
  },
  {
   "cell_type": "code",
   "execution_count": null,
   "metadata": {},
   "outputs": [],
   "source": [
    "##Testing pushing geodata to postgres\n",
    "# # https://gis.stackexchange.com/questions/239198/adding-geopandas-dataframe-to-postgis-table\n",
    "# counties_covid['geom'] = counties_covid['geometry'].apply(lambda x: WKTElement(x.wkt, srid=4326))\n",
    "\n",
    "# #drop the geometry column as it is now duplicative\n",
    "# counties_covid.drop('geometry', 1, inplace=True)"
   ]
  },
  {
   "cell_type": "code",
   "execution_count": null,
   "metadata": {},
   "outputs": [],
   "source": [
    "##Testing pushing geodata to postgres\n",
    "# counties_covid.to_sql('counties_geometry', engine, if_exists='append', index=True, \n",
    "#                          dtype={'geom': Geometry('POLYGON', srid=4326)})"
   ]
  },
  {
   "cell_type": "code",
   "execution_count": null,
   "metadata": {},
   "outputs": [],
   "source": []
  }
 ],
 "metadata": {
  "kernelspec": {
   "display_name": "PythonData",
   "language": "python",
   "name": "pythondata"
  },
  "language_info": {
   "codemirror_mode": {
    "name": "ipython",
    "version": 3
   },
   "file_extension": ".py",
   "mimetype": "text/x-python",
   "name": "python",
   "nbconvert_exporter": "python",
   "pygments_lexer": "ipython3",
   "version": "3.7.6"
  }
 },
 "nbformat": 4,
 "nbformat_minor": 4
}