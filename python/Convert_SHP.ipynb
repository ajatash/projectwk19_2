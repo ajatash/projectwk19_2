{
 "cells": [
  {
   "cell_type": "code",
   "execution_count": null,
   "metadata": {},
   "outputs": [],
   "source": [
    "# Dependencies\n",
    "import pandas as pd\n",
    "import geopandas as gpd\n",
    "import requests\n",
    "from census import Census\n",
    "from us import states\n",
    "\n",
    "# Census API Key\n",
    "from config import api_key\n",
    "c = Census(api_key, year=2017)"
   ]
  },
  {
   "cell_type": "code",
   "execution_count": null,
   "metadata": {},
   "outputs": [],
   "source": [
    "# label documentation: https://gist.github.com/afhaque/60558290d6efd892351c4b64e5c01e9b\n",
    "\n",
    "# poverty: B17001_002E\n",
    "# population: B01003_001E\n",
    "# median age: B01002_001E\n",
    "# income: B19013_001E\n",
    "\n",
    "m_census_data = c.acs5.get(('NAME','B01003_001E', 'B17001_002E', 'B01002_001E', 'B19013_001E'), geo={'for': 'county:*',\n",
    "                       'in': 'state:27'.format(states.MN.fips)}) #  county:053  &for=county:*&in=state:01"
   ]
  },
  {
   "cell_type": "code",
   "execution_count": null,
   "metadata": {},
   "outputs": [],
   "source": [
    "m_census_data\n",
    "# Convert to DataFrame\n",
    "m_census_pd = pd.DataFrame(m_census_data)\n",
    "m_census_pd.head(87)"
   ]
  },
  {
   "cell_type": "code",
   "execution_count": null,
   "metadata": {},
   "outputs": [],
   "source": [
    "# Column Reordering\n",
    "m_census_pd = m_census_pd.rename(columns={\"B01003_001E\": \"Population\",\n",
    "                                      \"B01002_001E\": \"Median Age\",\n",
    "                                      \"B17001_002E\": \"Poverty count\",\n",
    "                                      \"B19013_001E\": \"Median Household Income\",\n",
    "                                      \"NAME\": \"Name\", \"tract\": \"Census Tract\"})\n",
    "\n",
    "# Add in Poverty Rate (Poverty Count / Population)\n",
    "m_census_pd[\"Poverty Rate\"] = 100 * \\\n",
    "    m_census_pd[\"Poverty count\"].astype(\n",
    "        int) / m_census_pd[\"Population\"].astype(int)\n",
    "\n",
    "# convert county FIPS to int\n",
    "m_census_pd[\"county\"] = m_census_pd[\"county\"].astype(int)\n",
    "\n",
    "m_census_pd.head()"
   ]
  },
  {
   "cell_type": "code",
   "execution_count": null,
   "metadata": {},
   "outputs": [],
   "source": [
    "shp = \"mn_county_boundaries.shp\"  \n",
    "counties = gpd.read_file(shp)\n",
    "counties.head()"
   ]
  },
  {
   "cell_type": "code",
   "execution_count": null,
   "metadata": {},
   "outputs": [],
   "source": []
  },
  {
   "cell_type": "code",
   "execution_count": null,
   "metadata": {},
   "outputs": [],
   "source": [
    "counties_ACS = counties.merge(m_census_pd, left_on='CTY_FIPS', right_on='county' )\n",
    "counties_ACS = counties_ACS.to_crs(\"EPSG:4326\")\n",
    "counties_ACS.head()"
   ]
  },
  {
   "cell_type": "code",
   "execution_count": null,
   "metadata": {},
   "outputs": [],
   "source": [
    "counties_ACS.crs"
   ]
  },
  {
   "cell_type": "code",
   "execution_count": null,
   "metadata": {},
   "outputs": [],
   "source": [
    "counties_ACS.to_file(\"../Covid19_Map/MN_counties_py.geojson\", driver='GeoJSON')\n",
    "# counties.to_file(\"MN_counties.shp\")"
   ]
  },
  {
   "cell_type": "code",
   "execution_count": null,
   "metadata": {},
   "outputs": [],
   "source": []
  }
 ],
 "metadata": {
  "kernelspec": {
   "display_name": "PythonData",
   "language": "python",
   "name": "pythondata"
  },
  "language_info": {
   "codemirror_mode": {
    "name": "ipython",
    "version": 3
   },
   "file_extension": ".py",
   "mimetype": "text/x-python",
   "name": "python",
   "nbconvert_exporter": "python",
   "pygments_lexer": "ipython3",
   "version": "3.7.6"
  }
 },
 "nbformat": 4,
 "nbformat_minor": 4
}
